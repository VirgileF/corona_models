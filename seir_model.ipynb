{
 "cells": [
  {
   "cell_type": "markdown",
   "metadata": {},
   "source": [
    "# <center> Basic epidemic models <center>"
   ]
  },
  {
   "cell_type": "markdown",
   "metadata": {},
   "source": [
    "## Helpers"
   ]
  },
  {
   "cell_type": "code",
   "execution_count": 1,
   "metadata": {},
   "outputs": [],
   "source": [
    "import matplotlib.pyplot as plt\n",
    "import numpy as np\n",
    "import pandas as pd\n",
    "import warnings\n",
    "warnings.filterwarnings('ignore')\n",
    "from scipy.optimize import minimize\n",
    "from time import time\n",
    "from datetime import datetime"
   ]
  },
  {
   "cell_type": "code",
   "execution_count": 2,
   "metadata": {},
   "outputs": [],
   "source": [
    "# To compute the time to the epidemics peak\n",
    "def peak(L):\n",
    "    for i in range(len(L)):\n",
    "        if L[i+1]<L[i]:\n",
    "            return i\n",
    "    return \"no peak\""
   ]
  },
  {
   "cell_type": "markdown",
   "metadata": {},
   "source": [
    "## SIR model"
   ]
  },
  {
   "cell_type": "markdown",
   "metadata": {},
   "source": [
    "In this first approach, we consider three types of people:\n",
    "\n",
    "- the __susceptible__ people: they are not immune thus they are likely to be infected\n",
    "- the __infected__ people: they carry the virus and can infect the susceptible people\n",
    "- the __recovered__ people: they've already been infected and then they recovered or died. Either case, they can't get infected anymore.\n",
    "\n",
    "The ODE that we need to solve are as follow:\n",
    "\n",
    "$$\n",
    "\\left\\{\n",
    "\\begin{array}{r c l}\n",
    "S'(t) & = & -pS(t)I(t) \\\\\n",
    "I'(t) & = & pS(t)I(t) - I(t)/d \\\\\n",
    "R'(t) & = & I(t)/d\n",
    "\\end{array}\n",
    "\\right.\n",
    "$$\n",
    "\n",
    "Where:\n",
    "\n",
    "- *p* is the __infection rate__: depends on the number of contact between infected and susceptible people, and the probability for a contact to be contagious.\n",
    "- *d* is the __contagiousness duration__: the number of days people stay contagious."
   ]
  },
  {
   "cell_type": "code",
   "execution_count": 3,
   "metadata": {},
   "outputs": [],
   "source": [
    "# SIR model simulation\n",
    "def SIR(I0, rho, c, d, T):\n",
    "    p = rho*c # Infection rate\n",
    "    S, I, R = 1-I0, I0, 0\n",
    "    S_list, I_list, R_list = [S], [I], [R]\n",
    "    for i in range(T):\n",
    "        S, I, R = S - p*S*I, I + p*S*I - I/d, R + I/d\n",
    "        S_list.append(S)\n",
    "        I_list.append(I)\n",
    "        R_list.append(R)\n",
    "    return S_list, I_list, R_list"
   ]
  },
  {
   "cell_type": "code",
   "execution_count": 4,
   "metadata": {},
   "outputs": [
    {
     "data": {
      "image/png": "[encoded data removed]",
      "text/plain": [
       "<Figure size 432x288 with 1 Axes>"
      ]
     },
     "metadata": {
      "needs_background": "light"
     },
     "output_type": "display_data"
    },
    {
     "name": "stdout",
     "output_type": "stream",
     "text": [
      "Cumulative number of infected people: 84.1%\n",
      "Duration before the peak: 73\n"
     ]
    }
   ],
   "source": [
    "if __name__ == '__main__':\n",
    "\n",
    "    # Simulation parameters\n",
    "    I0 = .01 # Initial number of infected people\n",
    "    rho = .04 # Probabibility of contagion for an interaction\n",
    "    c = 3 # Number of contacts per people per day\n",
    "    d = 18 # Contagiousness duration (days) \n",
    "    T = 300 # Study duration (days)\n",
    "\n",
    "    # Run simulation\n",
    "    S_list, I_list, R_list = SIR(I0, rho, c, d, T)\n",
    "\n",
    "    # Plot results\n",
    "    plt.plot(S_list, label='Susceptible', color='yellow')\n",
    "    plt.plot(I_list, label='Infected', color='red')\n",
    "    plt.plot(R_list, label='Recovered', color='green')\n",
    "    plt.legend()\n",
    "    plt.show()\n",
    "\n",
    "    print(\"Cumulative number of infected people: {}%\".format(round(100*R_list[-1], 1)))\n",
    "    print(\"Duration before the peak: {}\".format(peak(I_list)))"
   ]
  },
  {
   "cell_type": "markdown",
   "metadata": {},
   "source": [
    "## SEIR model"
   ]
  },
  {
   "cell_type": "markdown",
   "metadata": {},
   "source": [
    "In this second approach, we consider three types of people:\n",
    "\n",
    "- the __susceptible__ people: they are not immune thus they are likely to be infected\n",
    "- the __exposed__ people: they carry the virus but they don't have any symptoms\n",
    "- the __infected__ people: they carry the virus and can infect the susceptible people, but they know thay are sick as they are enough advanced to have symptoms\n",
    "- the __recovered__ people: they've already been infected and then they recovered or died. Either case, they can't get infected anymore.\n",
    "\n",
    "The ODE that we need to solve are as follow:\n",
    "\n",
    "$$\n",
    "\\left\\{\n",
    "\\begin{array}{r c l}\n",
    "S'(t) & = & -p_eS(t)E(t) - p_iS(t)I(t) \\\\\n",
    "E'(t) & = & p_eS(t)E(t) + p_iS(t)I(t) - E(t)/d_e \\\\\n",
    "I'(t) & = & E(t)/d_e - I(t)/d_i \\\\\n",
    "R'(t) & = & I(t)/d_i\n",
    "\\end{array}\n",
    "\\right.\n",
    "$$\n",
    "\n",
    "Where:\n",
    "\n",
    "- $p_e$ is the __exposition rate__: depends on the number of contact between exposed and susceptible people, and the probability for a contact to be contagious.\n",
    "- $p_i$ is the __infection rate__: depends on the number of contact between infected and susceptible people, and the probability for a contact to be contagious.\n",
    "- $d_e$ is the __exposition duration__: the number of days people stay contagious without any symptom.\n",
    "- $d_i$ is the __infection duration__: the number of days people stay contagious with symptoms."
   ]
  },
  {
   "cell_type": "code",
   "execution_count": 5,
   "metadata": {},
   "outputs": [],
   "source": [
    "# SEIR simulation\n",
    "def SEIR(E0, I0, pe, pi, de, di, T):\n",
    "    S, E, I, R = 1-E0-I0, E0, I0, 0\n",
    "    S_list, E_list, I_list, R_list = [S], [E], [I], [R]\n",
    "    for i in range(T):\n",
    "        S, E, I, R = S - pe*S*E - pi*S*I, E + pe*S*E + pi*S*I - E/de, I + E/de - I/di, R + I/di\n",
    "        S_list.append(S)\n",
    "        E_list.append(E)\n",
    "        I_list.append(I)\n",
    "        R_list.append(R)\n",
    "    return S_list, E_list, I_list, R_list"
   ]
  },
  {
   "cell_type": "code",
   "execution_count": 6,
   "metadata": {},
   "outputs": [
    {
     "data": {
      "image/png": "[encoded data removed]",
      "text/plain": [
       "<Figure size 432x288 with 1 Axes>"
      ]
     },
     "metadata": {
      "needs_background": "light"
     },
     "output_type": "display_data"
    },
    {
     "name": "stdout",
     "output_type": "stream",
     "text": [
      "Cumulative number of infected people: 0.47809741537306305\n",
      "Duration before the peak: 237\n"
     ]
    }
   ],
   "source": [
    "if __name__ == '__main__':\n",
    "    \n",
    "    # Simulation parameters\n",
    "    E0 = .000015 # Initial number of exposed people\n",
    "    I0 = .00001 # Initial number of infected people\n",
    "    pe = .16\n",
    "    pi = .04\n",
    "    de = 6 # Exposition duration (days)\n",
    "    di = 10 # Infection duration (days)\n",
    "    T = 400 # Study duration (days)\n",
    "\n",
    "    # Run simulation\n",
    "    S_list, E_list, I_list, R_list = SEIR(E0, I0, pe, pi, de, di, T)\n",
    "\n",
    "    # Plot results\n",
    "    plt.plot(S_list, label='Susceptible', color='yellow')\n",
    "    plt.plot(E_list, label='Exposed', color='orange')\n",
    "    plt.plot(I_list, label='Infected', color='red')\n",
    "    plt.plot(R_list, label='Recovered', color='green')\n",
    "    plt.legend()\n",
    "    plt.show()\n",
    "\n",
    "    print(\"Cumulative number of infected people: {}\".format(R_list[-1]))\n",
    "    print(\"Duration before the peak: {}\".format(peak(I_list)))"
   ]
  },
  {
   "cell_type": "markdown",
   "metadata": {},
   "source": [
    "## Fitting SEIR model to Novel data (Kaggle)"
   ]
  },
  {
   "cell_type": "markdown",
   "metadata": {},
   "source": [
    "In this part we will try to fit the SEIR model to some real data found on kaggle.com. The parameters we need to fit are $p_e$ and $p_i$. \n",
    "\n",
    "The most reliable data we have is the evolution of I(t). We have pulled out the evolution of the number of infected people in France between 03/15 and 04/01. The series is called $I_{ref}$ (*cf.* 3 cells below). At each optimization step, the SEIR model is simulated and returns $I_{list}$. Then we can compute the cost function: \n",
    "$$J(I_{list}, I_{ref})=\\frac{||I_{list}-I_{ref}||_{L^2}}{||I_{ref}||_{L^2}} + J_{reg}$$\n",
    "\n",
    "Where $J_{reg}$ is the Tikhonov regularization term:\n",
    "$$J_{reg} = \\gamma ||I_{list}||_{L^2}$$\n",
    "\n",
    "The penalization factor $\\gamma$ has to be optimized as well. Indeed, if $\\gamma<<1$ then there almost no regularization as $J_{reg}\\simeq0$. In this case, the model will perfectly fit the observations but it will overestimate the epidemics. If $\\gamma>>1$ then the epidemics will be minimized and smooth but it won't fit the data anymore.\n",
    "\n",
    "In order to find the cost function's global minimum $x_{min}=argmin(J(x))$ (where $x=(p_e, p_i, \\frac{E_0}{I_0})$), we repeat the following procedure $n_{iter}$ times: run a local minimizer with a randomly sampled intialization $x_0$. You can adjust the speed/accuracy trade-off by increasing $n_{iter}$ (to improve accuracy) or decreasing it (which will speed up the search). "
   ]
  },
  {
   "cell_type": "code",
   "execution_count": 7,
   "metadata": {},
   "outputs": [],
   "source": [
    "# Cost function computation \n",
    "def J(x, I_ref, regularization_methods=None, T=200):\n",
    "    \n",
    "    pe, pi, exposition_ratio = x[0], x[1], x[2]\n",
    "    \n",
    "    I0, E0 = I_ref[0], exposition_ratio*I_ref[0]\n",
    "    if 'tikhonov' in regularization_methods or 'max' in regularization_methods:\n",
    "        S_list, E_list, I_list, R_list = SEIR(E0, I0, pe, pi, 6, 10, T)\n",
    "    else:\n",
    "        S_list, E_list, I_list, R_list = SEIR(E0, I0, pe, pi, 6, 10, len(I_ref)-1)\n",
    "    I_list = np.array(I_list)\n",
    "    err = np.linalg.norm(I_ref-I_list[:len(I_ref)])/np.linalg.norm(I_ref)\n",
    "    \n",
    "    reg = 0\n",
    "    if 'pe' in regularization_methods:\n",
    "        reg += regularization_methods['pe']*pe\n",
    "    if 'pi' in regularization_methods:\n",
    "        reg += regularization_methods['pi']*pi\n",
    "    if 'max' in regularization_methods:\n",
    "        reg += regularization_methods['max']*np.max(I_list)\n",
    "    if 'tikhonov' in regularization_methods:\n",
    "        reg += regularization_methods['tikhonov']*np.linalg.norm(I_list)\n",
    "    \n",
    "    return err + reg"
   ]
  },
  {
   "cell_type": "code",
   "execution_count": 8,
   "metadata": {},
   "outputs": [],
   "source": [
    "# Grid search for best parameters\n",
    "def grid_search(I_ref, grid_pe, grid_pi, grid_exposition_ratio, regularization_methods=None, T=200):\n",
    "    best_J = float('inf')\n",
    "    for exposition_ratio in grid_exposition_ratio:\n",
    "        for pe in grid_pe:\n",
    "            for pi in grid_pi:\n",
    "                new_J = J(I_ref, pe, pi, exposition_ratio, regularization_methods, T)\n",
    "                if new_J < best_J:\n",
    "                    best_J = new_J\n",
    "                    best_pe, best_pi, best_exposition_ratio = pe, pi, exposition_ratio\n",
    "    return best_pe, best_pi, best_exposition_ratio, best_J"
   ]
  },
  {
   "cell_type": "code",
   "execution_count": 9,
   "metadata": {},
   "outputs": [],
   "source": [
    "def random_sample_minimize(J, bounds, extra_parameters, n_grid=1000, n_iter=25, local_method='SLSQP'):\n",
    "\n",
    "    t0 = time()\n",
    "\n",
    "    pe_bounds, pi_bounds, exposition_ratio_bounds = bounds[0], bounds[1], bounds[2]\n",
    "\n",
    "    pe_choice = np.random.choice(np.linspace(*pe_bounds, n_grid), n_iter)\n",
    "    pi_choice = np.random.choice(np.linspace(*pi_bounds, n_grid), n_iter)\n",
    "    exposition_ratio_choice = np.random.choice(np.linspace(*exposition_ratio_bounds, n_grid), n_iter)\n",
    "\n",
    "    best_results = {'fun': float('inf')}\n",
    "    for i in range(n_iter):\n",
    "\n",
    "        pe, pi, exposition_ratio = pe_choice[i], pi_choice[i], exposition_ratio_choice[i]\n",
    "        x0 = np.array([pe, pi, exposition_ratio])\n",
    "\n",
    "        new_results = minimize(\n",
    "            J, \n",
    "            x0, \n",
    "            extra_parameters, \n",
    "            method=local_method,\n",
    "            bounds=[pe_bounds, pi_bounds, exposition_ratio_bounds]\n",
    "        )\n",
    "\n",
    "        if new_results['success'] and new_results['fun'] < best_results['fun']:\n",
    "            \n",
    "            best_results = new_results\n",
    "    \n",
    "    best_results['runtime'] = time()-t0\n",
    "    \n",
    "    return best_results"
   ]
  },
  {
   "cell_type": "code",
   "execution_count": 10,
   "metadata": {},
   "outputs": [],
   "source": [
    "# Plot results (two plots: how the simulation fits to the reality (left subplot) and how it extrapolates (right subplot))\n",
    "def plot_results(I_ref, S_list, E_list, I_list, R_list):\n",
    "    plt.rcParams['figure.figsize'] = [10, 3]\n",
    "    plt.subplot(1,2,1)\n",
    "    plt.plot(I_ref, linestyle='None', marker='x', c='blue', label='I(t) (reference data)')\n",
    "    plt.plot(I_list[:len(I_ref)], c='red', label='I(t) (fitted SEIR model)')\n",
    "    plt.title('Similarity with the reference data')\n",
    "    plt.legend()\n",
    "    plt.subplot(1,2,2)\n",
    "    plt.plot(I_ref, linestyle='None', marker='x', label='I(t) (reference data)')\n",
    "    plt.plot(I_list, c='red', label='I(t) (fitted SEIR model)')\n",
    "    plt.plot(S_list, c='yellow', label='S(t) (fitted SEIR model)')\n",
    "    plt.plot(E_list, c='orange', label='E(t) (fitted SEIR model)')\n",
    "    plt.plot(R_list, c='green', label='R(t) (fitted SEIR model)')\n",
    "    plt.title('Extrapolation')\n",
    "    plt.legend()\n",
    "    plt.tight_layout()\n",
    "    plt.show()"
   ]
  },
  {
   "cell_type": "code",
   "execution_count": 16,
   "metadata": {},
   "outputs": [],
   "source": [
    "def fit_seir_model(I_ref, T, bounds, n_iter, gamma_grid):\n",
    "    \n",
    "    fitted_model = {}\n",
    "    \n",
    "    for i, gamma in enumerate(gamma_grid):\n",
    "        \n",
    "        print('Fitting model: {}%'.format(round(100*i/len(gamma_grid),1)), end = '\\r')\n",
    "\n",
    "        # Regularization methods\n",
    "        regularization_methods = {\n",
    "                'pe': 0,\n",
    "                'pi': 0,\n",
    "                'max':0,\n",
    "                'tikhonov': gamma\n",
    "            }\n",
    "\n",
    "        extra_parameters = (I_ref, regularization_methods, T)\n",
    "\n",
    "        best_results = random_sample_minimize(J, bounds, extra_parameters, n_iter=n_iter, local_method='SLSQP')\n",
    "        \n",
    "        fitted_model[gamma] = best_results\n",
    "        \n",
    "    return fitted_model            "
   ]
  },
  {
   "cell_type": "markdown",
   "metadata": {},
   "source": [
    "- Fitter sur les R(t) \n",
    "- Take into account the increasing number of tests"
   ]
  },
  {
   "cell_type": "code",
   "execution_count": null,
   "metadata": {},
   "outputs": [],
   "source": []
  }
 ],
 "metadata": {
  "kernelspec": {
   "display_name": "Python (myenv)",
   "language": "python",
   "name": "test_env"
  },
  "language_info": {
   "codemirror_mode": {
    "name": "ipython",
    "version": 3
   },
   "file_extension": ".py",
   "mimetype": "text/x-python",
   "name": "python",
   "nbconvert_exporter": "python",
   "pygments_lexer": "ipython3",
   "version": "3.7.6"
  }
 },
 "nbformat": 4,
 "nbformat_minor": 2
}
