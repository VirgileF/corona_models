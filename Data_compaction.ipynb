{
 "cells": [
  {
   "cell_type": "code",
   "execution_count": 1,
   "metadata": {},
   "outputs": [],
   "source": [
    "import pandas as pd \n",
    "import numpy as np\n",
    "import os\n",
    "import re"
   ]
  },
  {
   "cell_type": "code",
   "execution_count": 2,
   "metadata": {},
   "outputs": [
    {
     "name": "stderr",
     "output_type": "stream",
     "text": [
      "/usr/local/lib/python3.7/site-packages/pandas/core/frame.py:7138: FutureWarning: Sorting because non-concatenation axis is not aligned. A future version\n",
      "of pandas will change to not sort by default.\n",
      "\n",
      "To accept the future behavior, pass 'sort=False'.\n",
      "\n",
      "To retain the current behavior and silence the warning, pass 'sort=True'.\n",
      "\n",
      "  sort=sort,\n"
     ]
    }
   ],
   "source": [
    "reports = [report for report \n",
    "           in os.listdir('../COVID-19/csse_covid_19_data/csse_covid_19_daily_reports') \n",
    "           if re.search(r\"\\.csv$\", report)\n",
    "          ]\n",
    "\n",
    "### You should have the https://github.com/CSSEGISandData/COVID-19.git project in the same folder as this project\n",
    "\n",
    "reports.sort()\n",
    "\n",
    "raw_dataframe = pd.DataFrame()\n",
    "\n",
    "#Accumulate data\n",
    "for report_name in reports[1:]:\n",
    "    with open('../COVID-19/csse_covid_19_data/csse_covid_19_daily_reports/' + report_name) as csv:\n",
    "        daily_report = pd.read_csv(csv)\n",
    "        raw_dataframe = raw_dataframe.append(daily_report, ignore_index=True)        "
   ]
  },
  {
   "cell_type": "code",
   "execution_count": 3,
   "metadata": {},
   "outputs": [],
   "source": [
    "def blend_columns(row, column_name1, column_name2):\n",
    "    return (pd.isna(row[column_name1]) and row[column_name2]) or row[column_name1]\n",
    "\n",
    "def to_int(value):\n",
    "    if np.isnan(value):\n",
    "        return 0\n",
    "    else:\n",
    "        return int(value)\n",
    "    \n",
    "def observation_date(datestr_in):\n",
    "    date_str = re.split(r'[T,\\s]\\s*', datestr_in)[0] # Format is 1/23/20 17:00 or 2020-03-01T23:33:03\n",
    "    \n",
    "    date_l = date_str.split('/') # Format is 1/23/20\n",
    "    if len(date_l) == 3:\n",
    "        date_l[2] = '2020'\n",
    "        return '/'.join(date_l)\n",
    "    \n",
    "    date_l = date_str.split('-') #Format is 2020-04-09\n",
    "    if len(date_l) == 3:\n",
    "        date_l.pop(0)\n",
    "        date_l.append('2020')\n",
    "        return '/'.join(date_l)\n",
    "    \n",
    "    print('ERROR, the format is not known', datestr, datestr_in)\n",
    "    return "
   ]
  },
  {
   "cell_type": "code",
   "execution_count": 4,
   "metadata": {},
   "outputs": [],
   "source": [
    "#Clean data\n",
    "raw_dataframe['Country_Region'] = raw_dataframe.apply(\n",
    "    lambda row: blend_columns(row, 'Country_Region', 'Country/Region')\n",
    "    , axis=1)\n",
    "raw_dataframe['Last_Update'] = raw_dataframe.apply(\n",
    "    lambda row: blend_columns(row, 'Last_Update', 'Last Update')\n",
    "    , axis=1)\n",
    "raw_dataframe['Province_State'] = raw_dataframe.apply(\n",
    "    lambda row: blend_columns(row, 'Province_State', 'Province/State')\n",
    "    , axis=1)\n",
    "raw_dataframe['Lat'] = raw_dataframe.apply(\n",
    "    lambda row: blend_columns(row, 'Lat', 'Latitude')\n",
    "    , axis=1)\n",
    "raw_dataframe['Long_'] = raw_dataframe.apply(\n",
    "    lambda row: blend_columns(row, 'Long_', 'Longitude')\n",
    "    , axis=1)\n",
    "raw_dataframe['Confirmed'] = raw_dataframe.apply(\n",
    "    lambda row: to_int(row['Confirmed'])\n",
    "    , axis=1)\n",
    "raw_dataframe['Deaths'] = raw_dataframe.apply(\n",
    "    lambda row: to_int(row['Deaths'])\n",
    "    , axis=1)\n",
    "raw_dataframe['Recovered'] = raw_dataframe.apply(\n",
    "    lambda row: to_int(row['Recovered'])\n",
    "    , axis=1)\n",
    "raw_dataframe['Active'] = raw_dataframe.apply(\n",
    "    lambda row: to_int(row['Active'])\n",
    "    , axis=1)\n",
    "\n",
    "raw_dataframe['ObservationDate'] = raw_dataframe.apply(lambda row: observation_date(row['Last_Update']), axis=1)\n",
    "\n",
    "raw_dataframe = raw_dataframe.drop(columns=[\n",
    "    'Province/State', 'Last Update', 'Last_Update', 'Country/Region', 'Latitude', 'Longitude', 'FIPS', 'Admin2'\n",
    "])\n",
    "\n",
    "column_names = [\n",
    "    'Province_State','Country_Region','ObservationDate',\n",
    "    'Lat','Long_','Confirmed','Deaths',\n",
    "    'Recovered','Active','Combined_Key'\n",
    "]\n",
    "raw_dataframe = raw_dataframe.reindex(columns=column_names)"
   ]
  },
  {
   "cell_type": "code",
   "execution_count": 5,
   "metadata": {},
   "outputs": [],
   "source": [
    "raw_dataframe['Deaths'] = raw_dataframe.apply(\n",
    "    lambda row: to_int(row['Deaths'])\n",
    "    , axis=1)"
   ]
  },
  {
   "cell_type": "code",
   "execution_count": 6,
   "metadata": {},
   "outputs": [],
   "source": [
    "raw_dataframe.to_csv('covid_19_aggregation.csv')"
   ]
  },
  {
   "cell_type": "code",
   "execution_count": null,
   "metadata": {},
   "outputs": [],
   "source": []
  }
 ],
 "metadata": {
  "kernelspec": {
   "display_name": "Python 3",
   "language": "python",
   "name": "python3"
  },
  "language_info": {
   "codemirror_mode": {
    "name": "ipython",
    "version": 3
   },
   "file_extension": ".py",
   "mimetype": "text/x-python",
   "name": "python",
   "nbconvert_exporter": "python",
   "pygments_lexer": "ipython3",
   "version": "3.7.6"
  }
 },
 "nbformat": 4,
 "nbformat_minor": 2
}
