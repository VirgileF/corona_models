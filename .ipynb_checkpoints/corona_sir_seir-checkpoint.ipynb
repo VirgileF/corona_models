{
 "cells": [
  {
   "cell_type": "markdown",
   "metadata": {},
   "source": [
    "# <center> Basic epidemic models"
   ]
  },
  {
   "cell_type": "markdown",
   "metadata": {},
   "source": [
    "## Helpers"
   ]
  },
  {
   "cell_type": "code",
   "execution_count": 1,
   "metadata": {},
   "outputs": [],
   "source": [
    "import matplotlib.pyplot as plt\n",
    "import numpy as np\n",
    "import pandas as pd"
   ]
  },
  {
   "cell_type": "code",
   "execution_count": 11,
   "metadata": {},
   "outputs": [],
   "source": [
    "# To compute the time to the epidemics peak\n",
    "def peak(L):\n",
    "    for i in range(len(L)):\n",
    "        if L[i+1]<L[i]:\n",
    "            return i\n",
    "    return \"no peak\""
   ]
  },
  {
   "cell_type": "markdown",
   "metadata": {},
   "source": [
    "## SIR model"
   ]
  },
  {
   "cell_type": "markdown",
   "metadata": {},
   "source": [
    "In this first approach, we consider three types of people:\n",
    "\n",
    "- the __susceptible__ people: they are not immune thus they are likely to be infected\n",
    "- the __infected__ people: they carry the virus and can infect the susceptible people\n",
    "- the __recovered__ people: they've already been infected and then they recovered or died. Either case, they can't get infected anymore.\n",
    "\n",
    "The ODE that we need to solve are as follow:\n",
    "\n",
    "$$\n",
    "\\left\\{\n",
    "\\begin{array}{r c l}\n",
    "S'(t) & = & -pS(t)I(t) \\\\\n",
    "I'(t) & = & pS(t)I(t) - I(t)/d \\\\\n",
    "R'(t) & = & I(t)/d\n",
    "\\end{array}\n",
    "\\right.\n",
    "$$\n",
    "\n",
    "Where:\n",
    "\n",
    "- *p* is the __infection rate__: depends on the number of contact between infected and susceptible people, and the probability for a contact to be contagious.\n",
    "- *d* is the __contagiousness duration__: the number of days people stay contagious."
   ]
  },
  {
   "cell_type": "code",
   "execution_count": 3,
   "metadata": {},
   "outputs": [],
   "source": [
    "# SIR model simulation\n",
    "def SIR(I0, rho, c, d, T):\n",
    "    p = rho*c # Infection rate\n",
    "    S, I, R = 1-I0, I0, 0\n",
    "    S_list, I_list, R_list = [S], [I], [R]\n",
    "    for i in range(T):\n",
    "        S, I, R = S - p*S*I, I + p*S*I - I/d, R + I/d\n",
    "        S_list.append(S)\n",
    "        I_list.append(I)\n",
    "        R_list.append(R)\n",
    "    return S_list, I_list, R_list"
   ]
  },
  {
   "cell_type": "code",
   "execution_count": 4,
   "metadata": {},
   "outputs": [
    {
     "data": {
      "image/png": "[encoded data removed]",
      "text/plain": [
       "<Figure size 432x288 with 1 Axes>"
      ]
     },
     "metadata": {
      "needs_background": "light"
     },
     "output_type": "display_data"
    },
    {
     "name": "stdout",
     "output_type": "stream",
     "text": [
      "Cumulative number of infected people: 84.1%\n",
      "Duration before the peak: 73\n"
     ]
    }
   ],
   "source": [
    "# Simulation parameters\n",
    "I0 = .01 # Initial number of infected people\n",
    "rho = .04 # Probabibility of contagion for an interaction\n",
    "c = 3 # Number of contacts per people per day\n",
    "d = 18 # Contagiousness duration (days) \n",
    "T = 300 # Study duration (days)\n",
    "\n",
    "# Run simulation\n",
    "S_list, I_list, R_list = SIR(I0, rho, c, d, T)\n",
    "\n",
    "# Plot results\n",
    "plt.plot(S_list, label='Susceptible', color='yellow')\n",
    "plt.plot(I_list, label='Infected', color='red')\n",
    "plt.plot(R_list, label='Recovered', color='green')\n",
    "plt.legend()\n",
    "plt.show()\n",
    "\n",
    "print(\"Cumulative number of infected people: {}%\".format(round(100*R_list[-1], 1)))\n",
    "print(\"Duration before the peak: {}\".format(peak(I_list)))"
   ]
  },
  {
   "cell_type": "markdown",
   "metadata": {},
   "source": [
    "## SEIR model"
   ]
  },
  {
   "cell_type": "markdown",
   "metadata": {},
   "source": [
    "In this second approach, we consider three types of people:\n",
    "\n",
    "- the __susceptible__ people: they are not immune thus they are likely to be infected\n",
    "- the __exposed__ people: they carry the virus but they don't have any symptoms\n",
    "- the __infected__ people: they carry the virus and can infect the susceptible people, but they know thay are sick as they are enough advanced to have symptoms\n",
    "- the __recovered__ people: they've already been infected and then they recovered or died. Either case, they can't get infected anymore.\n",
    "\n",
    "The ODE that we need to solve are as follow:\n",
    "\n",
    "$$\n",
    "\\left\\{\n",
    "\\begin{array}{r c l}\n",
    "S'(t) & = & -p_eS(t)E(t) - p_iS(t)I(t) \\\\\n",
    "E'(t) & = & p_eS(t)E(t) + p_iS(t)I(t) - E(t)/d_e \\\\\n",
    "I'(t) & = & E(t)/d_e - I(t)/d_i \\\\\n",
    "R'(t) & = & I(t)/d_i\n",
    "\\end{array}\n",
    "\\right.\n",
    "$$\n",
    "\n",
    "Where:\n",
    "\n",
    "- $p_e$ is the __exposition rate__: depends on the number of contact between exposed and susceptible people, and the probability for a contact to be contagious.\n",
    "- $p_i$ is the __infection rate__: depends on the number of contact between infected and susceptible people, and the probability for a contact to be contagious.\n",
    "- $d_e$ is the __exposition duration__: the number of days people stay contagious without any symptom.\n",
    "- $d_i$ is the __infection duration__: the number of days people stay contagious with symptoms."
   ]
  },
  {
   "cell_type": "code",
   "execution_count": 5,
   "metadata": {},
   "outputs": [],
   "source": [
    "# SEIR simulation\n",
    "def SEIR(E0, I0, rho_e, rho_i, c_e, c_i, de, di, T):\n",
    "    pe = rho_e*c_e # Exposition rate\n",
    "    pi = rho_i*c_i # Infection rate\n",
    "    S, E, I, R = 1-E0-I0, E0, I0, 0\n",
    "    S_list, E_list, I_list, R_list = [S], [E], [I], [R]\n",
    "    for i in range(T):\n",
    "        S, E, I, R = S - pe*S*E - pi*S*I, E + pe*S*E + pi*S*I - E/de, I + E/de - I/di, R + I/di\n",
    "        S_list.append(S)\n",
    "        E_list.append(E)\n",
    "        I_list.append(I)\n",
    "        R_list.append(R)\n",
    "    return S_list, E_list, I_list, R_list"
   ]
  },
  {
   "cell_type": "code",
   "execution_count": 6,
   "metadata": {},
   "outputs": [
    {
     "data": {
      "image/png": "[encoded data removed]",
      "text/plain": [
       "<Figure size 432x288 with 1 Axes>"
      ]
     },
     "metadata": {
      "needs_background": "light"
     },
     "output_type": "display_data"
    },
    {
     "name": "stdout",
     "output_type": "stream",
     "text": [
      "Cumulative number of infected people: 0.47809741537306305\n",
      "Duration before the peak: 237\n"
     ]
    }
   ],
   "source": [
    "# Simulation parameters\n",
    "E0 = .000015 # Initial number of exposed people\n",
    "I0 = .00001 # Initial number of infected people\n",
    "rho_e = .04 # Probabibility of contagion for an interaction\n",
    "rho_i = .04 # Probabibility of contagion for an interaction\n",
    "c_e = 4 # Number of contacts per people per day\n",
    "c_i = 1 # Number of contacts per people per day\n",
    "de = 6 # Exposition duration (days)\n",
    "di = 10 # Infection duration (days)\n",
    "T = 400 # Study duration (days)\n",
    "\n",
    "# Run simulation\n",
    "S_list, E_list, I_list, R_list = SEIR(E0, I0, rho_e, rho_i, c_e, c_i, de, di, T)\n",
    "\n",
    "# Plot results\n",
    "plt.plot(S_list, label='Susceptible', color='yellow')\n",
    "plt.plot(E_list, label='Exposed', color='orange')\n",
    "plt.plot(I_list, label='Infected', color='red')\n",
    "plt.plot(R_list, label='Recovered', color='green')\n",
    "plt.legend()\n",
    "plt.show()\n",
    "\n",
    "print(\"Cumulative number of infected people: {}\".format(R_list[-1]))\n",
    "print(\"Duration before the peak: {}\".format(peak(I_list)))"
   ]
  },
  {
   "cell_type": "markdown",
   "metadata": {},
   "source": [
    "## Fitting SEIR model to Novel data (Kaggle)"
   ]
  },
  {
   "cell_type": "markdown",
   "metadata": {},
   "source": [
    "In this part we will try to fit the SEIR model to some real data found on kaggle.com. The parameters we need to fit are $p_e$ and $p_i$. Recall that the SEIR model doesn't directly consider $p_e$ and $p_i$. Its inputs are $\\rho_e$, $c_e$, $\\rho_i$ and $c_i$. The formulae that links all these parameters are:\n",
    "$$\n",
    "\\left\\{\n",
    "\\begin{array}{r c l}\n",
    "p_e & = & \\rho_ec_e \\\\\n",
    "p_i & = & \\rho_ic_i\n",
    "\\end{array}\n",
    "\\right.\n",
    "$$\n",
    "\n",
    "The most reliable data we have is the evolution of I(t). We have pulled out the evolution of the number of infected people in France between 03/15 and 04/01. The series is called $I_{ref}$ (*cf.* 3 cells below). At each optimization step, the SEIR model is simulated and returns $I_{list}$. Then we can compute the cost function $J(I_{list}, I_{ref})=\\frac{||I_{list}-I_{ref}||_{L^2}}{||I_{ref}||_{L^2}}$.\n",
    "\n",
    "The optimization method is a simple gridsearch. \n",
    "\n",
    "We can use some regularization methods, to avoid too high coefficients $p_e$ and $p_i$."
   ]
  },
  {
   "cell_type": "code",
   "execution_count": 7,
   "metadata": {},
   "outputs": [],
   "source": [
    "# Cost function computation\n",
    "def J(I_ref, rho_e, rho_i, c_e, c_i, regularization_methods=None, T=200):\n",
    "    \n",
    "    I0, E0 = I_ref[0], 1.5*I_ref[0]\n",
    "    if 'tikhonov' in regularization_methods or 'max' in regularization_methods:\n",
    "        S_list, E_list, I_list, R_list = SEIR(E0, I0, rho_e, rho_i, c_e, c_i, 6, 10, T)\n",
    "    else:\n",
    "        S_list, E_list, I_list, R_list = SEIR(E0, I0, rho_e, rho_i, c_e, c_i, 6, 10, len(I_ref)-1)\n",
    "    I_list = np.array(I_list)\n",
    "    err = np.linalg.norm(I_ref-I_list[:len(I_ref)])/np.linalg.norm(I_ref)\n",
    "    \n",
    "    reg = 0\n",
    "    if 'p_e' in regularization_methods:\n",
    "        reg += regularization_methods['p_e']*rho_e*c_e\n",
    "    if 'p_i' in regularization_methods:\n",
    "        reg += regularization_methods['p_i']*rho_i*c_i\n",
    "    if 'max' in regularization_methods:\n",
    "        reg += regularization_methods['max']*np.max(I_list)\n",
    "    if 'tikhonov' in regularization_methods:\n",
    "        reg += regularization_methods['tikhonov']*np.linalg.norm(I_list)\n",
    "    \n",
    "    return err + reg\n",
    "    "
   ]
  },
  {
   "cell_type": "code",
   "execution_count": 8,
   "metadata": {},
   "outputs": [],
   "source": [
    "# Grid search for best parameters\n",
    "def grid_search(I_ref, grid_rho_e, grid_rho_i, grid_c_e, grid_c_i, regularization_methods=None, T=200):\n",
    "    best_J = float('inf') \n",
    "    for rho_e in grid_rho_e:\n",
    "        for rho_i in grid_rho_i:\n",
    "            for c_e in grid_c_e:\n",
    "                for c_i in grid_c_i:\n",
    "                    new_J = J(I_ref, rho_e, rho_i, c_e, c_i, regularization_methods, T)\n",
    "                    if new_J < best_J:\n",
    "                        best_J = new_J\n",
    "                        best_rho_e, best_rho_i, best_c_e, best_c_i = rho_e, rho_i, c_e, c_i\n",
    "    return best_rho_e, best_rho_i, best_c_e, best_c_i, best_J"
   ]
  },
  {
   "cell_type": "code",
   "execution_count": 9,
   "metadata": {},
   "outputs": [
    {
     "name": "stderr",
     "output_type": "stream",
     "text": [
      "/opt/miniconda3/envs/test_env/lib/python3.7/site-packages/ipykernel_launcher.py:7: RuntimeWarning: overflow encountered in double_scalars\n",
      "  import sys\n",
      "/opt/miniconda3/envs/test_env/lib/python3.7/site-packages/ipykernel_launcher.py:7: RuntimeWarning: invalid value encountered in double_scalars\n",
      "  import sys\n"
     ]
    }
   ],
   "source": [
    "# Novel data (https://www.kaggle.com/sudalairajkumar/novel-corona-virus-2019-dataset#covid_19_data.csv)\n",
    "I_ref = np.array([\n",
    "    9.66119E-05,\n",
    "    0.000111821,\n",
    "    0.000132582,\n",
    "    0.000158448,\n",
    "    0.000181343,\n",
    "    0.000204597,\n",
    "    0.000196179,\n",
    "    0.000267507,\n",
    "    0.000298537,\n",
    "    0.000335985,\n",
    "    0.000377149,\n",
    "    0.000441209,\n",
    "    0.000453224,\n",
    "    0.000501478,\n",
    "    0.000584493,\n",
    "    0.000627209\n",
    "])\n",
    "\n",
    "# Grid search parameters\n",
    "n_grid = 20\n",
    "grid_rho_e = np.linspace(0, 1, n_grid)\n",
    "grid_rho_i = np.linspace(0, 1, n_grid)\n",
    "grid_c_e = np.linspace(.1, 10, n_grid)\n",
    "grid_c_i = np.linspace(.1, 10, n_grid)\n",
    "\n",
    "# Regularization parameters\n",
    "T = 200\n",
    "regularization_methods = {\n",
    "    'p_e': 1,\n",
    "    'p_i': 1,\n",
    "    'max': 0,\n",
    "    'tikhonov': 0\n",
    "}\n",
    "\n",
    "# Grid search\n",
    "best_rho_e, best_rho_i, best_c_e, best_c_i, best_J = grid_search(I_ref, grid_rho_e, grid_rho_i, grid_c_e, grid_c_i, regularization_methods, T) \n",
    "\n",
    "# Fitted model\n",
    "S_list, E_list, I_list, R_list = SEIR(1.5*I_ref[0], I_ref[0], best_rho_e, best_rho_i, best_c_e, best_c_i, 6, 10, T)"
   ]
  },
  {
   "cell_type": "code",
   "execution_count": 10,
   "metadata": {},
   "outputs": [
    {
     "data": {
      "image/png": "[encoded data removed]",
      "text/plain": [
       "<Figure size 432x288 with 1 Axes>"
      ]
     },
     "metadata": {
      "needs_background": "light"
     },
     "output_type": "display_data"
    },
    {
     "data": {
      "image/png": "[encoded data removed]",
      "text/plain": [
       "<Figure size 432x288 with 1 Axes>"
      ]
     },
     "metadata": {
      "needs_background": "light"
     },
     "output_type": "display_data"
    }
   ],
   "source": [
    "# Plot result\n",
    "plt.plot(I_ref, linestyle='None', marker='x', c='blue', label='I(t) (reference data)')\n",
    "plt.plot(I_list[:len(I_ref)], c='red', label='I(t) (fitted SEIR model)')\n",
    "plt.legend()\n",
    "plt.show()\n",
    "plt.plot(I_ref, linestyle='None', marker='x', label='I(t) (reference data)')\n",
    "plt.plot(I_list, c='red', label='I(t) (fitted SEIR model)')\n",
    "plt.plot(S_list, c='yellow', label='S(t) (fitted SEIR model)')\n",
    "plt.plot(E_list, c='orange', label='E(t) (fitted SEIR model)')\n",
    "plt.plot(R_list, c='green', label='R(t) (fitted SEIR model)')\n",
    "plt.legend()\n",
    "plt.show()"
   ]
  },
  {
   "cell_type": "code",
   "execution_count": null,
   "metadata": {},
   "outputs": [],
   "source": []
  }
 ],
 "metadata": {
  "kernelspec": {
   "display_name": "Python (myenv)",
   "language": "python",
   "name": "test_env"
  },
  "language_info": {
   "codemirror_mode": {
    "name": "ipython",
    "version": 3
   },
   "file_extension": ".py",
   "mimetype": "text/x-python",
   "name": "python",
   "nbconvert_exporter": "python",
   "pygments_lexer": "ipython3",
   "version": "3.7.6"
  }
 },
 "nbformat": 4,
 "nbformat_minor": 2
}
